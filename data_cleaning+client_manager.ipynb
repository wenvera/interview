{
 "cells": [
  {
   "cell_type": "markdown",
   "id": "f4ff4ae1-e619-41d4-9a22-02d3f147da86",
   "metadata": {},
   "source": [
    "### Data cleaning. \n",
    "### Clean MOCK_DATA (3).csv first and then load MOCK_DATA_Cleaned.csv into Postgres SQL."
   ]
  },
  {
   "cell_type": "code",
   "execution_count": 112,
   "id": "cc8a839e-f0ad-44ac-8478-d78b2a4f28bd",
   "metadata": {},
   "outputs": [],
   "source": [
    "import pandas as pd\n",
    "\n",
    "# file paths for raw data and cleaned data\n",
    "input_file = '/Users/VeraLiu_1/Downloads/MOCK_DATA (3).csv'\n",
    "output_file = '/Users/VeraLiu_1/Downloads/MOCK_DATA_Cleaned.csv'\n",
    "\n"
   ]
  },
  {
   "cell_type": "code",
   "execution_count": 113,
   "id": "69204f93-4097-47fa-8ec2-fc2d183862de",
   "metadata": {
    "scrolled": true
   },
   "outputs": [
    {
     "data": {
      "text/html": [
       "<div>\n",
       "<style scoped>\n",
       "    .dataframe tbody tr th:only-of-type {\n",
       "        vertical-align: middle;\n",
       "    }\n",
       "\n",
       "    .dataframe tbody tr th {\n",
       "        vertical-align: top;\n",
       "    }\n",
       "\n",
       "    .dataframe thead th {\n",
       "        text-align: right;\n",
       "    }\n",
       "</style>\n",
       "<table border=\"1\" class=\"dataframe\">\n",
       "  <thead>\n",
       "    <tr style=\"text-align: right;\">\n",
       "      <th></th>\n",
       "      <th>id</th>\n",
       "      <th>first_name</th>\n",
       "      <th>last_name</th>\n",
       "      <th>email</th>\n",
       "      <th>Password</th>\n",
       "      <th>created_on</th>\n",
       "      <th>Unnamed: 6</th>\n",
       "    </tr>\n",
       "  </thead>\n",
       "  <tbody>\n",
       "    <tr>\n",
       "      <th>0</th>\n",
       "      <td>1</td>\n",
       "      <td>Lisha</td>\n",
       "      <td>McCarrick</td>\n",
       "      <td>lmccarrick0@walmart.com</td>\n",
       "      <td>oD7.D_&gt;pPkv#</td>\n",
       "      <td>3/4/2024</td>\n",
       "      <td>NaN</td>\n",
       "    </tr>\n",
       "    <tr>\n",
       "      <th>1</th>\n",
       "      <td>2</td>\n",
       "      <td>Willard</td>\n",
       "      <td>Frazier</td>\n",
       "      <td>wfrazier1@springer.com</td>\n",
       "      <td>lR2|9uhs2X</td>\n",
       "      <td>4/10/2024</td>\n",
       "      <td>NaN</td>\n",
       "    </tr>\n",
       "    <tr>\n",
       "      <th>2</th>\n",
       "      <td>3</td>\n",
       "      <td>Joann</td>\n",
       "      <td>Cisson</td>\n",
       "      <td>jcisson2@tamu.edu</td>\n",
       "      <td>rF0&gt;87=!!WT/</td>\n",
       "      <td>6/2/2024</td>\n",
       "      <td>NaN</td>\n",
       "    </tr>\n",
       "    <tr>\n",
       "      <th>3</th>\n",
       "      <td>4</td>\n",
       "      <td>Persis</td>\n",
       "      <td>Bittlestone</td>\n",
       "      <td>pbittlestone3@sitemeter.com</td>\n",
       "      <td>eV5.&lt;dG_i9\"\\xJ</td>\n",
       "      <td>9/16/2024</td>\n",
       "      <td>NaN</td>\n",
       "    </tr>\n",
       "    <tr>\n",
       "      <th>4</th>\n",
       "      <td>5</td>\n",
       "      <td>Erma</td>\n",
       "      <td>Fisbey</td>\n",
       "      <td>efisbey4@google.pl</td>\n",
       "      <td>gG9*17Zlc_</td>\n",
       "      <td>7/10/2024</td>\n",
       "      <td>NaN</td>\n",
       "    </tr>\n",
       "    <tr>\n",
       "      <th>...</th>\n",
       "      <td>...</td>\n",
       "      <td>...</td>\n",
       "      <td>...</td>\n",
       "      <td>...</td>\n",
       "      <td>...</td>\n",
       "      <td>...</td>\n",
       "      <td>...</td>\n",
       "    </tr>\n",
       "    <tr>\n",
       "      <th>995</th>\n",
       "      <td>996</td>\n",
       "      <td>Melvin</td>\n",
       "      <td>Saywell</td>\n",
       "      <td>msaywellrn@stumbleupon.com</td>\n",
       "      <td>dZ0$_G}cDGx</td>\n",
       "      <td>10/30/2024</td>\n",
       "      <td>NaN</td>\n",
       "    </tr>\n",
       "    <tr>\n",
       "      <th>996</th>\n",
       "      <td>997</td>\n",
       "      <td>Izaak</td>\n",
       "      <td>Thirst</td>\n",
       "      <td>ithirstro@gizmodo.com</td>\n",
       "      <td>fQ1)sgD,.&lt;0g'BG</td>\n",
       "      <td>7/30/2024</td>\n",
       "      <td>NaN</td>\n",
       "    </tr>\n",
       "    <tr>\n",
       "      <th>997</th>\n",
       "      <td>998</td>\n",
       "      <td>Conny</td>\n",
       "      <td>Avraam</td>\n",
       "      <td>cavraamrp@mapquest.com</td>\n",
       "      <td>eL4&lt;Ypv8gVz\\CL</td>\n",
       "      <td>5/1/2024</td>\n",
       "      <td>NaN</td>\n",
       "    </tr>\n",
       "    <tr>\n",
       "      <th>998</th>\n",
       "      <td>999</td>\n",
       "      <td>Matty</td>\n",
       "      <td>Eggleson</td>\n",
       "      <td>megglesonrq@ca.gov</td>\n",
       "      <td>vQ3}Y2mc'cXGRWe</td>\n",
       "      <td>1/14/2024</td>\n",
       "      <td>NaN</td>\n",
       "    </tr>\n",
       "    <tr>\n",
       "      <th>999</th>\n",
       "      <td>1000</td>\n",
       "      <td>Jorgan</td>\n",
       "      <td>Isham</td>\n",
       "      <td>jishamrr@liveinternet.ru</td>\n",
       "      <td>tN9,2P\"0O2jb</td>\n",
       "      <td>7/20/2024</td>\n",
       "      <td>NaN</td>\n",
       "    </tr>\n",
       "  </tbody>\n",
       "</table>\n",
       "<p>1000 rows × 7 columns</p>\n",
       "</div>"
      ],
      "text/plain": [
       "       id first_name    last_name                        email  \\\n",
       "0       1      Lisha    McCarrick      lmccarrick0@walmart.com   \n",
       "1       2    Willard      Frazier       wfrazier1@springer.com   \n",
       "2       3      Joann       Cisson            jcisson2@tamu.edu   \n",
       "3       4     Persis  Bittlestone  pbittlestone3@sitemeter.com   \n",
       "4       5       Erma       Fisbey           efisbey4@google.pl   \n",
       "..    ...        ...          ...                          ...   \n",
       "995   996     Melvin      Saywell   msaywellrn@stumbleupon.com   \n",
       "996   997      Izaak       Thirst        ithirstro@gizmodo.com   \n",
       "997   998      Conny       Avraam       cavraamrp@mapquest.com   \n",
       "998   999      Matty     Eggleson           megglesonrq@ca.gov   \n",
       "999  1000     Jorgan        Isham     jishamrr@liveinternet.ru   \n",
       "\n",
       "            Password  created_on Unnamed: 6  \n",
       "0       oD7.D_>pPkv#    3/4/2024        NaN  \n",
       "1         lR2|9uhs2X   4/10/2024        NaN  \n",
       "2       rF0>87=!!WT/    6/2/2024        NaN  \n",
       "3     eV5.<dG_i9\"\\xJ   9/16/2024        NaN  \n",
       "4         gG9*17Zlc_   7/10/2024        NaN  \n",
       "..               ...         ...        ...  \n",
       "995      dZ0$_G}cDGx  10/30/2024        NaN  \n",
       "996  fQ1)sgD,.<0g'BG   7/30/2024        NaN  \n",
       "997   eL4<Ypv8gVz\\CL    5/1/2024        NaN  \n",
       "998  vQ3}Y2mc'cXGRWe   1/14/2024        NaN  \n",
       "999     tN9,2P\"0O2jb   7/20/2024        NaN  \n",
       "\n",
       "[1000 rows x 7 columns]"
      ]
     },
     "execution_count": 113,
     "metadata": {},
     "output_type": "execute_result"
    }
   ],
   "source": [
    "# read raw data file\n",
    "data = pd.read_csv(input_file)\n",
    "data\n"
   ]
  },
  {
   "cell_type": "code",
   "execution_count": 114,
   "id": "3f8a7f33-7cf2-46ce-b514-4ba192ea5dfb",
   "metadata": {
    "scrolled": true
   },
   "outputs": [
    {
     "data": {
      "text/plain": [
       "id            object\n",
       "first_name    object\n",
       "last_name     object\n",
       "email         object\n",
       "Password      object\n",
       "created_on    object\n",
       "Unnamed: 6    object\n",
       "dtype: object"
      ]
     },
     "execution_count": 114,
     "metadata": {},
     "output_type": "execute_result"
    }
   ],
   "source": [
    "# make sure all numbers in id column are integer. \n",
    "data.iloc[1:] \n",
    "data.dtypes"
   ]
  },
  {
   "cell_type": "code",
   "execution_count": 115,
   "id": "e5fc3544-c57b-4f91-9584-4638785050f5",
   "metadata": {},
   "outputs": [
    {
     "data": {
      "text/html": [
       "<div>\n",
       "<style scoped>\n",
       "    .dataframe tbody tr th:only-of-type {\n",
       "        vertical-align: middle;\n",
       "    }\n",
       "\n",
       "    .dataframe tbody tr th {\n",
       "        vertical-align: top;\n",
       "    }\n",
       "\n",
       "    .dataframe thead th {\n",
       "        text-align: right;\n",
       "    }\n",
       "</style>\n",
       "<table border=\"1\" class=\"dataframe\">\n",
       "  <thead>\n",
       "    <tr style=\"text-align: right;\">\n",
       "      <th></th>\n",
       "      <th>id</th>\n",
       "      <th>first_name</th>\n",
       "      <th>last_name</th>\n",
       "      <th>email</th>\n",
       "      <th>Password</th>\n",
       "      <th>created_on</th>\n",
       "      <th>Unnamed: 6</th>\n",
       "    </tr>\n",
       "  </thead>\n",
       "  <tbody>\n",
       "    <tr>\n",
       "      <th>329</th>\n",
       "      <td>Goly</td>\n",
       "      <td>Giselle</td>\n",
       "      <td>Goly</td>\n",
       "      <td>ggoly95@vimeo.com</td>\n",
       "      <td>pY5$ql\\(fl~z\"a8/</td>\n",
       "      <td>9/17/2024</td>\n",
       "      <td>NaN</td>\n",
       "    </tr>\n",
       "  </tbody>\n",
       "</table>\n",
       "</div>"
      ],
      "text/plain": [
       "       id first_name last_name              email          Password  \\\n",
       "329  Goly    Giselle      Goly  ggoly95@vimeo.com  pY5$ql\\(fl~z\"a8/   \n",
       "\n",
       "    created_on Unnamed: 6  \n",
       "329  9/17/2024        NaN  "
      ]
     },
     "execution_count": 115,
     "metadata": {},
     "output_type": "execute_result"
    }
   ],
   "source": [
    "# find the once in id column which is not integer and make it a integer\n",
    "non_integers = data[~pd.to_numeric(data['id'], errors='coerce').apply(lambda x: float(x).is_integer() if not pd.isnull(x) else False)]\n",
    "non_integers"
   ]
  },
  {
   "cell_type": "code",
   "execution_count": 116,
   "id": "98549fc3-38de-418b-8e6e-34e90ae283cf",
   "metadata": {
    "scrolled": true
   },
   "outputs": [
    {
     "data": {
      "text/plain": [
       "330"
      ]
     },
     "execution_count": 116,
     "metadata": {},
     "output_type": "execute_result"
    }
   ],
   "source": [
    "# modify 'Goly' to a number: 330\n",
    "data.iat[329,0] = 330\n",
    "data.loc[329,'id']"
   ]
  },
  {
   "cell_type": "code",
   "execution_count": 117,
   "id": "a53d6c71-b1a1-4335-acce-9d033567a728",
   "metadata": {},
   "outputs": [],
   "source": [
    "# check non-null value in column: Unnamed: 6\n",
    "non_null_values = data['Unnamed: 6'].notnull()\n"
   ]
  },
  {
   "cell_type": "code",
   "execution_count": 118,
   "id": "581662b9-a0a8-4c11-9529-24fce95495f5",
   "metadata": {},
   "outputs": [
    {
     "name": "stdout",
     "output_type": "stream",
     "text": [
      "    id first_name last_name             email     Password        created_on  \\\n",
      "33  34       Alis    Germon  agermonx@msn.com  iS5*G19%r|o  agermonx@msn.com   \n",
      "\n",
      "   Unnamed: 6  \n",
      "33  7/17/2024  \n"
     ]
    }
   ],
   "source": [
    "# Filter and display rows with non-null values in 'Unnamed: 6'\n",
    "non_null_df = data[non_null_values]\n",
    "print(non_null_df)"
   ]
  },
  {
   "cell_type": "code",
   "execution_count": 119,
   "id": "48adee6a-9548-4c50-a3d6-da332a763398",
   "metadata": {},
   "outputs": [],
   "source": [
    "# replace contents in created_on from ' agermonx@msn.com ' to '7/17/2024 '\n",
    "data.loc[data['created_on'] == 'agermonx@msn.com', 'created_on'] = '7/17/2024'\n"
   ]
  },
  {
   "cell_type": "code",
   "execution_count": 120,
   "id": "0621a0d6-a2ba-4054-bb28-c0ef29e1f841",
   "metadata": {},
   "outputs": [
    {
     "data": {
      "text/plain": [
       "id                          34\n",
       "first_name                Alis\n",
       "last_name               Germon\n",
       "email         agermonx@msn.com\n",
       "Password           iS5*G19%r|o\n",
       "created_on           7/17/2024\n",
       "Unnamed: 6           7/17/2024\n",
       "Name: 33, dtype: object"
      ]
     },
     "execution_count": 120,
     "metadata": {},
     "output_type": "execute_result"
    }
   ],
   "source": [
    "data.loc[33]\n"
   ]
  },
  {
   "cell_type": "code",
   "execution_count": 121,
   "id": "1cde3233-676f-49b4-a4ea-f31283b88655",
   "metadata": {
    "scrolled": true
   },
   "outputs": [
    {
     "data": {
      "text/html": [
       "<div>\n",
       "<style scoped>\n",
       "    .dataframe tbody tr th:only-of-type {\n",
       "        vertical-align: middle;\n",
       "    }\n",
       "\n",
       "    .dataframe tbody tr th {\n",
       "        vertical-align: top;\n",
       "    }\n",
       "\n",
       "    .dataframe thead th {\n",
       "        text-align: right;\n",
       "    }\n",
       "</style>\n",
       "<table border=\"1\" class=\"dataframe\">\n",
       "  <thead>\n",
       "    <tr style=\"text-align: right;\">\n",
       "      <th></th>\n",
       "      <th>id</th>\n",
       "      <th>first_name</th>\n",
       "      <th>last_name</th>\n",
       "      <th>email</th>\n",
       "      <th>Password</th>\n",
       "      <th>created_on</th>\n",
       "      <th>Unnamed: 6</th>\n",
       "      <th>clientname</th>\n",
       "    </tr>\n",
       "  </thead>\n",
       "  <tbody>\n",
       "    <tr>\n",
       "      <th>0</th>\n",
       "      <td>1</td>\n",
       "      <td>Lisha</td>\n",
       "      <td>McCarrick</td>\n",
       "      <td>lmccarrick0@walmart.com</td>\n",
       "      <td>oD7.D_&gt;pPkv#</td>\n",
       "      <td>3/4/2024</td>\n",
       "      <td>NaN</td>\n",
       "      <td>Lisha McCarrick</td>\n",
       "    </tr>\n",
       "    <tr>\n",
       "      <th>1</th>\n",
       "      <td>2</td>\n",
       "      <td>Willard</td>\n",
       "      <td>Frazier</td>\n",
       "      <td>wfrazier1@springer.com</td>\n",
       "      <td>lR2|9uhs2X</td>\n",
       "      <td>4/10/2024</td>\n",
       "      <td>NaN</td>\n",
       "      <td>Willard Frazier</td>\n",
       "    </tr>\n",
       "    <tr>\n",
       "      <th>2</th>\n",
       "      <td>3</td>\n",
       "      <td>Joann</td>\n",
       "      <td>Cisson</td>\n",
       "      <td>jcisson2@tamu.edu</td>\n",
       "      <td>rF0&gt;87=!!WT/</td>\n",
       "      <td>6/2/2024</td>\n",
       "      <td>NaN</td>\n",
       "      <td>Joann Cisson</td>\n",
       "    </tr>\n",
       "    <tr>\n",
       "      <th>3</th>\n",
       "      <td>4</td>\n",
       "      <td>Persis</td>\n",
       "      <td>Bittlestone</td>\n",
       "      <td>pbittlestone3@sitemeter.com</td>\n",
       "      <td>eV5.&lt;dG_i9\"\\xJ</td>\n",
       "      <td>9/16/2024</td>\n",
       "      <td>NaN</td>\n",
       "      <td>Persis Bittlestone</td>\n",
       "    </tr>\n",
       "    <tr>\n",
       "      <th>4</th>\n",
       "      <td>5</td>\n",
       "      <td>Erma</td>\n",
       "      <td>Fisbey</td>\n",
       "      <td>efisbey4@google.pl</td>\n",
       "      <td>gG9*17Zlc_</td>\n",
       "      <td>7/10/2024</td>\n",
       "      <td>NaN</td>\n",
       "      <td>Erma Fisbey</td>\n",
       "    </tr>\n",
       "    <tr>\n",
       "      <th>...</th>\n",
       "      <td>...</td>\n",
       "      <td>...</td>\n",
       "      <td>...</td>\n",
       "      <td>...</td>\n",
       "      <td>...</td>\n",
       "      <td>...</td>\n",
       "      <td>...</td>\n",
       "      <td>...</td>\n",
       "    </tr>\n",
       "    <tr>\n",
       "      <th>995</th>\n",
       "      <td>996</td>\n",
       "      <td>Melvin</td>\n",
       "      <td>Saywell</td>\n",
       "      <td>msaywellrn@stumbleupon.com</td>\n",
       "      <td>dZ0$_G}cDGx</td>\n",
       "      <td>10/30/2024</td>\n",
       "      <td>NaN</td>\n",
       "      <td>Melvin Saywell</td>\n",
       "    </tr>\n",
       "    <tr>\n",
       "      <th>996</th>\n",
       "      <td>997</td>\n",
       "      <td>Izaak</td>\n",
       "      <td>Thirst</td>\n",
       "      <td>ithirstro@gizmodo.com</td>\n",
       "      <td>fQ1)sgD,.&lt;0g'BG</td>\n",
       "      <td>7/30/2024</td>\n",
       "      <td>NaN</td>\n",
       "      <td>Izaak Thirst</td>\n",
       "    </tr>\n",
       "    <tr>\n",
       "      <th>997</th>\n",
       "      <td>998</td>\n",
       "      <td>Conny</td>\n",
       "      <td>Avraam</td>\n",
       "      <td>cavraamrp@mapquest.com</td>\n",
       "      <td>eL4&lt;Ypv8gVz\\CL</td>\n",
       "      <td>5/1/2024</td>\n",
       "      <td>NaN</td>\n",
       "      <td>Conny Avraam</td>\n",
       "    </tr>\n",
       "    <tr>\n",
       "      <th>998</th>\n",
       "      <td>999</td>\n",
       "      <td>Matty</td>\n",
       "      <td>Eggleson</td>\n",
       "      <td>megglesonrq@ca.gov</td>\n",
       "      <td>vQ3}Y2mc'cXGRWe</td>\n",
       "      <td>1/14/2024</td>\n",
       "      <td>NaN</td>\n",
       "      <td>Matty Eggleson</td>\n",
       "    </tr>\n",
       "    <tr>\n",
       "      <th>999</th>\n",
       "      <td>1000</td>\n",
       "      <td>Jorgan</td>\n",
       "      <td>Isham</td>\n",
       "      <td>jishamrr@liveinternet.ru</td>\n",
       "      <td>tN9,2P\"0O2jb</td>\n",
       "      <td>7/20/2024</td>\n",
       "      <td>NaN</td>\n",
       "      <td>Jorgan Isham</td>\n",
       "    </tr>\n",
       "  </tbody>\n",
       "</table>\n",
       "<p>1000 rows × 8 columns</p>\n",
       "</div>"
      ],
      "text/plain": [
       "       id first_name    last_name                        email  \\\n",
       "0       1      Lisha    McCarrick      lmccarrick0@walmart.com   \n",
       "1       2    Willard      Frazier       wfrazier1@springer.com   \n",
       "2       3      Joann       Cisson            jcisson2@tamu.edu   \n",
       "3       4     Persis  Bittlestone  pbittlestone3@sitemeter.com   \n",
       "4       5       Erma       Fisbey           efisbey4@google.pl   \n",
       "..    ...        ...          ...                          ...   \n",
       "995   996     Melvin      Saywell   msaywellrn@stumbleupon.com   \n",
       "996   997      Izaak       Thirst        ithirstro@gizmodo.com   \n",
       "997   998      Conny       Avraam       cavraamrp@mapquest.com   \n",
       "998   999      Matty     Eggleson           megglesonrq@ca.gov   \n",
       "999  1000     Jorgan        Isham     jishamrr@liveinternet.ru   \n",
       "\n",
       "            Password  created_on Unnamed: 6          clientname  \n",
       "0       oD7.D_>pPkv#    3/4/2024        NaN     Lisha McCarrick  \n",
       "1         lR2|9uhs2X   4/10/2024        NaN     Willard Frazier  \n",
       "2       rF0>87=!!WT/    6/2/2024        NaN        Joann Cisson  \n",
       "3     eV5.<dG_i9\"\\xJ   9/16/2024        NaN  Persis Bittlestone  \n",
       "4         gG9*17Zlc_   7/10/2024        NaN         Erma Fisbey  \n",
       "..               ...         ...        ...                 ...  \n",
       "995      dZ0$_G}cDGx  10/30/2024        NaN      Melvin Saywell  \n",
       "996  fQ1)sgD,.<0g'BG   7/30/2024        NaN        Izaak Thirst  \n",
       "997   eL4<Ypv8gVz\\CL    5/1/2024        NaN        Conny Avraam  \n",
       "998  vQ3}Y2mc'cXGRWe   1/14/2024        NaN      Matty Eggleson  \n",
       "999     tN9,2P\"0O2jb   7/20/2024        NaN        Jorgan Isham  \n",
       "\n",
       "[1000 rows x 8 columns]"
      ]
     },
     "execution_count": 121,
     "metadata": {},
     "output_type": "execute_result"
    }
   ],
   "source": [
    "# combine first name and last name columns to create a new column: clientname\n",
    "data['clientname'] = data['first_name'] + ' ' + data['last_name']\n",
    "data['clientname'].head()\n",
    "data"
   ]
  },
  {
   "cell_type": "code",
   "execution_count": 122,
   "id": "e8fd2d32-3be9-415f-a023-fb2b22150209",
   "metadata": {},
   "outputs": [],
   "source": [
    "# delete first_name, last_name, Unnamed: 6 columns\n",
    "data = data.drop(columns=['first_name', 'last_name','Unnamed: 6' ])\n"
   ]
  },
  {
   "cell_type": "code",
   "execution_count": 123,
   "id": "0000c12b-0ab4-4d44-81f8-a8f044660efd",
   "metadata": {},
   "outputs": [],
   "source": [
    "# change the sequence of columns\n",
    "data = data [['id','clientname','email','Password', 'created_on']]"
   ]
  },
  {
   "cell_type": "code",
   "execution_count": 124,
   "id": "a6815562-522f-409d-a5e1-1164d49e7de7",
   "metadata": {},
   "outputs": [
    {
     "data": {
      "text/html": [
       "<div>\n",
       "<style scoped>\n",
       "    .dataframe tbody tr th:only-of-type {\n",
       "        vertical-align: middle;\n",
       "    }\n",
       "\n",
       "    .dataframe tbody tr th {\n",
       "        vertical-align: top;\n",
       "    }\n",
       "\n",
       "    .dataframe thead th {\n",
       "        text-align: right;\n",
       "    }\n",
       "</style>\n",
       "<table border=\"1\" class=\"dataframe\">\n",
       "  <thead>\n",
       "    <tr style=\"text-align: right;\">\n",
       "      <th></th>\n",
       "      <th>id</th>\n",
       "      <th>clientname</th>\n",
       "      <th>email</th>\n",
       "      <th>Password</th>\n",
       "      <th>created_on</th>\n",
       "    </tr>\n",
       "  </thead>\n",
       "  <tbody>\n",
       "    <tr>\n",
       "      <th>0</th>\n",
       "      <td>1</td>\n",
       "      <td>Lisha McCarrick</td>\n",
       "      <td>lmccarrick0@walmart.com</td>\n",
       "      <td>oD7.D_&gt;pPkv#</td>\n",
       "      <td>3/4/2024</td>\n",
       "    </tr>\n",
       "    <tr>\n",
       "      <th>1</th>\n",
       "      <td>2</td>\n",
       "      <td>Willard Frazier</td>\n",
       "      <td>wfrazier1@springer.com</td>\n",
       "      <td>lR2|9uhs2X</td>\n",
       "      <td>4/10/2024</td>\n",
       "    </tr>\n",
       "    <tr>\n",
       "      <th>2</th>\n",
       "      <td>3</td>\n",
       "      <td>Joann Cisson</td>\n",
       "      <td>jcisson2@tamu.edu</td>\n",
       "      <td>rF0&gt;87=!!WT/</td>\n",
       "      <td>6/2/2024</td>\n",
       "    </tr>\n",
       "    <tr>\n",
       "      <th>3</th>\n",
       "      <td>4</td>\n",
       "      <td>Persis Bittlestone</td>\n",
       "      <td>pbittlestone3@sitemeter.com</td>\n",
       "      <td>eV5.&lt;dG_i9\"\\xJ</td>\n",
       "      <td>9/16/2024</td>\n",
       "    </tr>\n",
       "    <tr>\n",
       "      <th>4</th>\n",
       "      <td>5</td>\n",
       "      <td>Erma Fisbey</td>\n",
       "      <td>efisbey4@google.pl</td>\n",
       "      <td>gG9*17Zlc_</td>\n",
       "      <td>7/10/2024</td>\n",
       "    </tr>\n",
       "    <tr>\n",
       "      <th>...</th>\n",
       "      <td>...</td>\n",
       "      <td>...</td>\n",
       "      <td>...</td>\n",
       "      <td>...</td>\n",
       "      <td>...</td>\n",
       "    </tr>\n",
       "    <tr>\n",
       "      <th>995</th>\n",
       "      <td>996</td>\n",
       "      <td>Melvin Saywell</td>\n",
       "      <td>msaywellrn@stumbleupon.com</td>\n",
       "      <td>dZ0$_G}cDGx</td>\n",
       "      <td>10/30/2024</td>\n",
       "    </tr>\n",
       "    <tr>\n",
       "      <th>996</th>\n",
       "      <td>997</td>\n",
       "      <td>Izaak Thirst</td>\n",
       "      <td>ithirstro@gizmodo.com</td>\n",
       "      <td>fQ1)sgD,.&lt;0g'BG</td>\n",
       "      <td>7/30/2024</td>\n",
       "    </tr>\n",
       "    <tr>\n",
       "      <th>997</th>\n",
       "      <td>998</td>\n",
       "      <td>Conny Avraam</td>\n",
       "      <td>cavraamrp@mapquest.com</td>\n",
       "      <td>eL4&lt;Ypv8gVz\\CL</td>\n",
       "      <td>5/1/2024</td>\n",
       "    </tr>\n",
       "    <tr>\n",
       "      <th>998</th>\n",
       "      <td>999</td>\n",
       "      <td>Matty Eggleson</td>\n",
       "      <td>megglesonrq@ca.gov</td>\n",
       "      <td>vQ3}Y2mc'cXGRWe</td>\n",
       "      <td>1/14/2024</td>\n",
       "    </tr>\n",
       "    <tr>\n",
       "      <th>999</th>\n",
       "      <td>1000</td>\n",
       "      <td>Jorgan Isham</td>\n",
       "      <td>jishamrr@liveinternet.ru</td>\n",
       "      <td>tN9,2P\"0O2jb</td>\n",
       "      <td>7/20/2024</td>\n",
       "    </tr>\n",
       "  </tbody>\n",
       "</table>\n",
       "<p>1000 rows × 5 columns</p>\n",
       "</div>"
      ],
      "text/plain": [
       "       id          clientname                        email         Password  \\\n",
       "0       1     Lisha McCarrick      lmccarrick0@walmart.com     oD7.D_>pPkv#   \n",
       "1       2     Willard Frazier       wfrazier1@springer.com       lR2|9uhs2X   \n",
       "2       3        Joann Cisson            jcisson2@tamu.edu     rF0>87=!!WT/   \n",
       "3       4  Persis Bittlestone  pbittlestone3@sitemeter.com   eV5.<dG_i9\"\\xJ   \n",
       "4       5         Erma Fisbey           efisbey4@google.pl       gG9*17Zlc_   \n",
       "..    ...                 ...                          ...              ...   \n",
       "995   996      Melvin Saywell   msaywellrn@stumbleupon.com      dZ0$_G}cDGx   \n",
       "996   997        Izaak Thirst        ithirstro@gizmodo.com  fQ1)sgD,.<0g'BG   \n",
       "997   998        Conny Avraam       cavraamrp@mapquest.com   eL4<Ypv8gVz\\CL   \n",
       "998   999      Matty Eggleson           megglesonrq@ca.gov  vQ3}Y2mc'cXGRWe   \n",
       "999  1000        Jorgan Isham     jishamrr@liveinternet.ru     tN9,2P\"0O2jb   \n",
       "\n",
       "     created_on  \n",
       "0      3/4/2024  \n",
       "1     4/10/2024  \n",
       "2      6/2/2024  \n",
       "3     9/16/2024  \n",
       "4     7/10/2024  \n",
       "..          ...  \n",
       "995  10/30/2024  \n",
       "996   7/30/2024  \n",
       "997    5/1/2024  \n",
       "998   1/14/2024  \n",
       "999   7/20/2024  \n",
       "\n",
       "[1000 rows x 5 columns]"
      ]
     },
     "execution_count": 124,
     "metadata": {},
     "output_type": "execute_result"
    }
   ],
   "source": [
    "data"
   ]
  },
  {
   "cell_type": "code",
   "execution_count": 125,
   "id": "07dc0274-aae2-453f-a927-be5200be8902",
   "metadata": {},
   "outputs": [],
   "source": [
    "# export\n",
    "# quoting=1 to fix the bug: in cell E5, the format of password is not showing properly.\n",
    "data.to_csv(output_file, index=False, quoting=1) "
   ]
  },
  {
   "cell_type": "markdown",
   "id": "2adafe25-f312-4ca8-baa5-de0e4b77a2c9",
   "metadata": {},
   "source": [
    "### Q5. Write a Python Function that enables an user to retrieve the details of a client, given a client_id. "
   ]
  },
  {
   "cell_type": "code",
   "execution_count": 126,
   "id": "a10df531-930d-4220-9141-601f3db652f0",
   "metadata": {},
   "outputs": [
    {
     "name": "stdout",
     "output_type": "stream",
     "text": [
      "Requirement already satisfied: psycopg2 in /opt/anaconda3/lib/python3.11/site-packages (2.9.10)\n"
     ]
    }
   ],
   "source": [
    "# Create a Python script (client_manager.py) to interact with the database.\n",
    "# Use psycopg2 (a PostgreSQL adapter for Python) for database interaction.\n",
    "\n",
    "!pip install psycopg2\n"
   ]
  },
  {
   "cell_type": "code",
   "execution_count": 127,
   "id": "6688c182-e6e7-417e-bd5a-13a72ae4c0f7",
   "metadata": {},
   "outputs": [],
   "source": [
    "# Function to connect to the database\n",
    "def connect_db():\n",
    "    try:\n",
    "        conn = psycopg2.connect(\n",
    "            database=\"clientdb\",\n",
    "            user=\"postgres\",\n",
    "            password=\"1234\",\n",
    "            host=\"localhost\",\n",
    "            port = \"5432\"\n",
    "        )\n",
    "        return conn\n",
    "    except Exception as e:\n",
    "        print(f\"Error connecting to the database: {e}\")\n",
    "        return None"
   ]
  },
  {
   "cell_type": "code",
   "execution_count": 128,
   "id": "62c283dd-f390-4ec2-8f85-03891e30ae09",
   "metadata": {},
   "outputs": [],
   "source": [
    "# Function to retrieve client details by id\n",
    "def get_client_details(client_id):\n",
    "    conn = connect_db()\n",
    "    if conn is None:\n",
    "        return\n",
    "    try:\n",
    "        cursor = conn.cursor()\n",
    "        cursor.execute(\"SELECT * FROM client_credentials WHERE id = %s;\", (client_id,))\n",
    "        client_data = cursor.fetchone()\n",
    "        cursor.close()\n",
    "        conn.close()\n",
    "        return client_data\n",
    "    except Exception as e:\n",
    "        print(f\"Error retrieving data: {e}\")"
   ]
  },
  {
   "cell_type": "code",
   "execution_count": 129,
   "id": "e956e6b3-0053-4d61-8d18-b31703ea9d61",
   "metadata": {},
   "outputs": [
    {
     "data": {
      "text/plain": [
       "(1,\n",
       " 'Lisha McCarrick',\n",
       " 'lmccarrick0@walmart.com',\n",
       " 'oD7.D_>pPkv#',\n",
       " datetime.date(2024, 3, 4))"
      ]
     },
     "execution_count": 129,
     "metadata": {},
     "output_type": "execute_result"
    }
   ],
   "source": [
    "# test: id = 1. \n",
    "get_client_details(1)"
   ]
  },
  {
   "cell_type": "code",
   "execution_count": null,
   "id": "30a90ba8-d501-4efc-a68a-d032bcf8cdfb",
   "metadata": {},
   "outputs": [],
   "source": [
    "# Instructions: enter id within the bracket and you will get the client account information.\n",
    "# get_client_details( )"
   ]
  },
  {
   "cell_type": "markdown",
   "id": "b5ab1369-5ea6-47a2-ba83-703a2b14a952",
   "metadata": {},
   "source": [
    "### Q6. Write a Python function that allows the user to alter the field of a specific client, given their client_id"
   ]
  },
  {
   "cell_type": "code",
   "execution_count": 130,
   "id": "bc59330b-08cf-4d00-be6c-ddf04322ab1b",
   "metadata": {},
   "outputs": [],
   "source": [
    "# Function to modify client details by id\n",
    "def update_client_field(id, field, new_value):\n",
    "    conn = connect_db()\n",
    "    if conn is None:\n",
    "        return\n",
    "    try:\n",
    "        cursor = conn.cursor()\n",
    "        query = f\"UPDATE client_credentials SET {field} = %s WHERE id = %s;\"\n",
    "        cursor.execute(query, (new_value, id))\n",
    "        conn.commit()\n",
    "        cursor.close()\n",
    "        conn.close()\n",
    "        print(\"Client data updated successfully.\")\n",
    "    except Exception as e:\n",
    "        print(f\"Error updating data: {e}\")"
   ]
  },
  {
   "cell_type": "code",
   "execution_count": 131,
   "id": "53fcaa5a-1cb8-4f7a-8682-24bb73c48df9",
   "metadata": {},
   "outputs": [
    {
     "name": "stdout",
     "output_type": "stream",
     "text": [
      "Client data updated successfully.\n"
     ]
    }
   ],
   "source": [
    "# test: id = 1\n",
    "update_client_field (1, 'email', 'helloRBC@gmail.com')"
   ]
  },
  {
   "cell_type": "code",
   "execution_count": 132,
   "id": "e22ae259-5e4e-4a81-a75d-7018de905c4b",
   "metadata": {
    "scrolled": true
   },
   "outputs": [
    {
     "data": {
      "text/plain": [
       "(1,\n",
       " 'Lisha McCarrick',\n",
       " 'helloRBC@gmail.com',\n",
       " 'oD7.D_>pPkv#',\n",
       " datetime.date(2024, 3, 4))"
      ]
     },
     "execution_count": 132,
     "metadata": {},
     "output_type": "execute_result"
    }
   ],
   "source": [
    "# check the new email address\n",
    "get_client_details(1)"
   ]
  },
  {
   "cell_type": "code",
   "execution_count": null,
   "id": "5b46e2c0-1c22-4e7a-8332-ceb6f01aafc9",
   "metadata": {},
   "outputs": [],
   "source": [
    "# Instructions: 1st step: enter id , 2nd step: enter the column you would like to modify , 3rd step: enter the new content you want to update)\n",
    "# update_client_field ( , , )"
   ]
  }
 ],
 "metadata": {
  "kernelspec": {
   "display_name": "Python 3 (ipykernel)",
   "language": "python",
   "name": "python3"
  },
  "language_info": {
   "codemirror_mode": {
    "name": "ipython",
    "version": 3
   },
   "file_extension": ".py",
   "mimetype": "text/x-python",
   "name": "python",
   "nbconvert_exporter": "python",
   "pygments_lexer": "ipython3",
   "version": "3.11.7"
  }
 },
 "nbformat": 4,
 "nbformat_minor": 5
}
